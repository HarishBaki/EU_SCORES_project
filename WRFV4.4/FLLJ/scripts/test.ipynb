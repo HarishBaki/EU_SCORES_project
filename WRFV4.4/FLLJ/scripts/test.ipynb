{
 "cells": [
  {
   "cell_type": "markdown",
   "metadata": {},
   "source": [
    "<h1><center> Frontal Low-Level Jet analysis  </center></h1>\n",
    "<div style=\"text-align: center\"> \n",
    "    Dr. Harish Baki <br/> Postdoctoral researcher <br/> TU Delft, Netherlands <br/> Email: h.baki@tudelft.nl<br/>\n",
    "</div>"
   ]
  },
  {
   "cell_type": "code",
   "execution_count": 1,
   "metadata": {},
   "outputs": [
    {
     "name": "stdout",
     "output_type": "stream",
     "text": [
      "Updated: 2024-05-03 12:36:04\n"
     ]
    }
   ],
   "source": [
    "# print current date\n",
    "import datetime\n",
    "print(f'Updated: {datetime.datetime.now().strftime(\"%Y-%m-%d %H:%M:%S\")}')"
   ]
  },
  {
   "cell_type": "code",
   "execution_count": 2,
   "metadata": {},
   "outputs": [],
   "source": [
    "import xarray as xr\n",
    "import os\n",
    "import glob\n",
    "import dask.distributed as dd\n",
    "import dask\n",
    "import dask.array as da\n",
    "import time\n",
    "import sys\n",
    "import calendar\n",
    "from datetime import datetime, timedelta\n",
    "import numpy as np\n",
    "import wrf\n",
    "from itertools import product\n",
    "\n",
    "import wrf\n",
    "from wrf import interplevel\n",
    "\n",
    "import pandas as pd\n",
    "import matplotlib\n",
    "import matplotlib.pyplot as plt\n",
    "%matplotlib inline\n",
    "\n",
    "plt.rcParams['text.usetex'] = False\n",
    "\n",
    "import matplotlib.cm as cm\n",
    "from mpl_toolkits.axes_grid1 import make_axes_locatable\n",
    "\n",
    "import cartopy\n",
    "from cartopy import crs\n",
    "import cartopy.crs as ccrs\n",
    "import cartopy.feature as cfeature\n",
    "from cartopy.feature import NaturalEarthFeature\n",
    "from matplotlib.cm import get_cmap\n",
    "import matplotlib.colors as mcolors\n",
    "\n",
    "from windrose import WindroseAxes\n",
    "\n",
    "from scipy.stats import weibull_min\n",
    "\n",
    "import seaborn as sns\n",
    "import seaborn.objects as so\n",
    "\n",
    "from mpl_toolkits.axes_grid1 import make_axes_locatable\n",
    "from matplotlib.ticker import AutoMinorLocator\n",
    "\n",
    "from scipy.stats import linregress\n",
    "\n",
    "\n",
    "from meteostat import Stations\n",
    "from datetime import datetime\n",
    "from meteostat import Hourly\n",
    "\n",
    "from sklearn.cluster import KMeans\n",
    "from sklearn.linear_model import LinearRegression\n",
    "from sklearn.mixture import GaussianMixture\n",
    "from sklearn.covariance import EllipticEnvelope\n",
    "\n",
    "root_dir = '/media/harish/SSD_4TB/EU_SCORES_project/WRFV4.4/FLLJ/'\n",
    "scripts_dir = f'{root_dir}/scripts'\n",
    "sys.path.append(scripts_dir)\n",
    "\n",
    "from data_processing.libraries import *"
   ]
  },
  {
   "cell_type": "code",
   "execution_count": 3,
   "metadata": {},
   "outputs": [
    {
     "name": "stdout",
     "output_type": "stream",
     "text": [
      "<Client: 'tcp://127.0.0.1:36419' processes=24 threads=48, memory=44.70 GiB>\n"
     ]
    }
   ],
   "source": [
    "import dask.distributed as dd\n",
    "\n",
    "if 'client' in locals():\n",
    "    client.close()\n",
    "    cluster.close()\n",
    "\n",
    "cluster = dd.LocalCluster(n_workers=24, threads_per_worker=2, memory_limit='2GB',dashboard_address=f':22522')\n",
    "client = dd.Client(cluster)\n",
    "print(client)"
   ]
  },
  {
   "cell_type": "code",
   "execution_count": null,
   "metadata": {},
   "outputs": [],
   "source": []
  }
 ],
 "metadata": {
  "kernelspec": {
   "display_name": "wrf-python-stable",
   "language": "python",
   "name": "python3"
  },
  "language_info": {
   "codemirror_mode": {
    "name": "ipython",
    "version": 3
   },
   "file_extension": ".py",
   "mimetype": "text/x-python",
   "name": "python",
   "nbconvert_exporter": "python",
   "pygments_lexer": "ipython3",
   "version": "3.10.6"
  }
 },
 "nbformat": 4,
 "nbformat_minor": 2
}
