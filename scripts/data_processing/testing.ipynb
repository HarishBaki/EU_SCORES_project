{
 "cells": [
  {
   "cell_type": "code",
   "execution_count": 1,
   "metadata": {},
   "outputs": [],
   "source": [
    "import xarray as xr\n",
    "import numpy as np\n",
    "import sys, os, glob\n",
    "import time\n",
    "from scipy.stats import weibull_min\n",
    "import dask.distributed as dd\n",
    "\n",
    "root_dir = '/media/harish/SSD_4TB/EU_SCORES_project'\n",
    "scripts_dir = f'{root_dir}/scripts'\n",
    "sys.path.append(scripts_dir)\n",
    "\n",
    "os.chdir(root_dir)\n",
    "\n",
    "from data_processing.libraries import mean_statistics, std_statistics, wind_power_density, weibull , weibull_statistics, wind_power_density, turbine_power, solar_power\n",
    "from data_processing.libraries import regional_extraction\n",
    "\n",
    "root_dir = '/media/harish/SSD_4TB/EU_SCORES_project'\n",
    "scripts_dir = f'{root_dir}/scripts'\n",
    "sys.path.append(scripts_dir)\n",
    "\n",
    "from analysis.plotters import map_plotter, all_sample_points, variability_plotter, months, colors, calculate_color_levels, CERRA_target_grids\n",
    "from data_processing.libraries import longitude_convert_0_to_360, find_nearest_indice, compute_statistics"
   ]
  },
  {
   "cell_type": "code",
   "execution_count": 4,
   "metadata": {},
   "outputs": [
    {
     "name": "stdout",
     "output_type": "stream",
     "text": [
      "<Client: 'tcp://127.0.0.1:43793' processes=8 threads=16, memory=14.90 GiB>\n"
     ]
    }
   ],
   "source": [
    "import dask.distributed as dd\n",
    "cluster = dd.LocalCluster(n_workers=8, threads_per_worker=2, memory_limit='2GB',dashboard_address=f':8787')\n",
    "client = dd.Client(cluster)\n",
    "print(client)"
   ]
  },
  {
   "cell_type": "code",
   "execution_count": 31,
   "metadata": {},
   "outputs": [
    {
     "name": "stdout",
     "output_type": "stream",
     "text": [
      "Closest indices in the order of latitude (y) and longitude (x) are : (67, 11)\n",
      "Closest indices in the order of latitude (y) and longitude (x) are : (67, 11)\n",
      "Closest indices in the order of latitude (y) and longitude (x) are : (67, 11)\n",
      "Closest indices in the order of latitude (y) and longitude (x) are : (67, 11)\n",
      "Closest indices in the order of latitude (y) and longitude (x) are : (67, 11)\n"
     ]
    }
   ],
   "source": [
    "run = 'New_runs'\n",
    "case = 'Ireland_coast'\n",
    "points = [52.7466, -10.7352]\n",
    "for level in [10,80,100,120,150]:\n",
    "    run_dir=f'{root_dir}/WRFV4.4/EU_SCORES/{run}/{case}/Postprocessed/variablewise_files'\n",
    "    ds = xr.open_dataset(f'{run_dir}/ws_{level}.nc')\n",
    "    indices = find_nearest_indice(ds.XLAT,ds.XLONG,points[0],-10.51)\n",
    "    ds.ws.sel(south_north=indices[0],west_east=indices[1]).assign_coords({'XLONG':points[1],'XLAT':points[0]}).to_netcdf(f'{run_dir}/sample_data/ws_{level}_{points[0]}_{points[1]}.nc')"
   ]
  },
  {
   "cell_type": "code",
   "execution_count": null,
   "metadata": {},
   "outputs": [],
   "source": []
  }
 ],
 "metadata": {
  "kernelspec": {
   "display_name": "wrf-python-stable",
   "language": "python",
   "name": "python3"
  },
  "language_info": {
   "codemirror_mode": {
    "name": "ipython",
    "version": 3
   },
   "file_extension": ".py",
   "mimetype": "text/x-python",
   "name": "python",
   "nbconvert_exporter": "python",
   "pygments_lexer": "ipython3",
   "version": "3.10.6"
  }
 },
 "nbformat": 4,
 "nbformat_minor": 2
}
